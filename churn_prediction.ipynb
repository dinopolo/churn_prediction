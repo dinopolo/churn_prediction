{
 "cells": [
  {
   "cell_type": "markdown",
   "metadata": {},
   "source": [
    "# **Churn Prediction** - TÍTULO PROVISÓRIO"
   ]
  },
  {
   "cell_type": "markdown",
   "metadata": {},
   "source": [
    "A taxa de *churn*, também chamado taxa de atrito ou rotatividade de cliente, é a taxa na qual clientes para de fazer negócios com uma entidade, ou seja, a taxa de evasão dos clientes. Em serviços por assinatura como Spotify, Netflix ou TV por assinatura, ela seria representada pelos clientes que cancelaram a assinatura em determinado período.\n",
    "\n",
    "Uma empresa pode utilizar o *churn* para comparar com a taxa de crescimento e determinar se a empresa está tendo ganhos ou perdas. Além disso, a melhor taxa de *churn* é que ele não ocorra, no entanto é quase impossível que isso ocorra e é muito difícil estimar um valor que seja verdadeiro para todos os tipos de negócios, mas, por exemplo, para SaaS o *churn* sugerido fica entre 5% e 7% ao ano.\n",
    "\n",
    "Um questionamento importante a se fazer é: **quais são os motivos para o *churn* acontecer?**\n",
    "- Entrega de valor menor do que foi prometido;\n",
    "- A reputação do produto está manchada;\n",
    "- Os clientes encontraram uma alternativa nos concorrentes;\n",
    "- Os clientes não necessitam ou não têm mais insteresse no produto;\n",
    "- Cliente encerrou a operação que necessitava do produto; e\n",
    "- Muitos outros motivos."
   ]
  },
  {
   "cell_type": "markdown",
   "metadata": {},
   "source": [
    "**Mas como um modelo de *Machine Learning* pode auxiliar com o *churn*?**\n",
    "\n",
    "Construindo um modelo de *Machine Learning* utilizando dados dos clientes que pararam de fazer negócios na empresa, podemos prever quais clientes ainda fazem negócios, no entanto estão prestes a parar e, assim, tomar as medidas necessárias para que esses clientes continuem com a empresa.\n",
    "\n",
    "Por isso, o objetivo desse projeto é avaliar diferentes modelos de *Machine Learning* e analisar qual que apresenta os melhores resultados para prever o *churn* do conjunto de dados utilizado."
   ]
  },
  {
   "cell_type": "markdown",
   "metadata": {},
   "source": [
    "## **Obtenção dos Dados**"
   ]
  },
  {
   "cell_type": "markdown",
   "metadata": {},
   "source": [
    "O conjunto de dados utilizado neste projeto foram, originalmente, disponibilizados pela [plataforma de ensino da IBM Developer](https://developer.ibm.com/technologies/data-science/patterns/predict-customer-churn-using-watson-studio-and-jupyter-notebooks/#) e é referente a um problema comum em uma empresa de telecomunicações.\n",
    "\n",
    "O conjunto de dados completo está disponível nesse [link]().\n",
    "\n",
    "Além disso, não são disponibilizadas informações explícitas sobre o conjunto de dados, no entanto com os nomes das colunas podemos ter um maior entendimento a respeito do problema."
   ]
  },
  {
   "cell_type": "markdown",
   "metadata": {},
   "source": [
    "## **Importando as bibliotecas**"
   ]
  },
  {
   "cell_type": "code",
   "execution_count": 117,
   "metadata": {},
   "outputs": [],
   "source": [
    "# Importando as bibliotecas\n",
    "import pandas as pd\n",
    "import numpy as np\n",
    "import matplotlib.pyplot as plt\n",
    "import seaborn as sns\n",
    "\n",
    "from sklearn.model_selection import train_test_split, cross_val_score, GridSearchCV, StratifiedKFold\n",
    "from sklearn.preprocessing import LabelEncoder\n",
    "from sklearn.tree import DecisionTreeClassifier\n",
    "from sklearn.ensemble import RandomForestClassifier\n",
    "from xgboost import XGBClassifier\n",
    "from lightgbm import LGBMClassifier\n",
    "from sklearn.metrics import roc_auc_score, classification_report, roc_auc_score, confusion_matrix\n",
    "from yellowbrick.classifier import ROCAUC\n",
    "from imblearn.under_sampling import RandomUnderSampler\n",
    "\n",
    "# Configurando o notebook\n",
    "sns.set(style=\"white\")\n",
    "%matplotlib inline\n",
    "\n",
    "# Removendo avisos\n",
    "import warnings\n",
    "warnings.filterwarnings(\"ignore\")"
   ]
  },
  {
   "cell_type": "markdown",
   "metadata": {},
   "source": [
    "## **Carregando o conjunto de dados**"
   ]
  },
  {
   "cell_type": "code",
   "execution_count": 62,
   "metadata": {},
   "outputs": [
    {
     "name": "stdout",
     "output_type": "stream",
     "text": [
      "As 5 primeiras entradas do conjunto de dados:\n",
      "\n"
     ]
    },
    {
     "data": {
      "text/html": [
       "<div>\n",
       "<style scoped>\n",
       "    .dataframe tbody tr th:only-of-type {\n",
       "        vertical-align: middle;\n",
       "    }\n",
       "\n",
       "    .dataframe tbody tr th {\n",
       "        vertical-align: top;\n",
       "    }\n",
       "\n",
       "    .dataframe thead th {\n",
       "        text-align: right;\n",
       "    }\n",
       "</style>\n",
       "<table border=\"1\" class=\"dataframe\">\n",
       "  <thead>\n",
       "    <tr style=\"text-align: right;\">\n",
       "      <th></th>\n",
       "      <th>customerID</th>\n",
       "      <th>gender</th>\n",
       "      <th>SeniorCitizen</th>\n",
       "      <th>Partner</th>\n",
       "      <th>Dependents</th>\n",
       "      <th>tenure</th>\n",
       "      <th>PhoneService</th>\n",
       "      <th>MultipleLines</th>\n",
       "      <th>InternetService</th>\n",
       "      <th>OnlineSecurity</th>\n",
       "      <th>...</th>\n",
       "      <th>DeviceProtection</th>\n",
       "      <th>TechSupport</th>\n",
       "      <th>StreamingTV</th>\n",
       "      <th>StreamingMovies</th>\n",
       "      <th>Contract</th>\n",
       "      <th>PaperlessBilling</th>\n",
       "      <th>PaymentMethod</th>\n",
       "      <th>MonthlyCharges</th>\n",
       "      <th>TotalCharges</th>\n",
       "      <th>Churn</th>\n",
       "    </tr>\n",
       "  </thead>\n",
       "  <tbody>\n",
       "    <tr>\n",
       "      <th>0</th>\n",
       "      <td>7590-VHVEG</td>\n",
       "      <td>Female</td>\n",
       "      <td>0</td>\n",
       "      <td>Yes</td>\n",
       "      <td>No</td>\n",
       "      <td>1</td>\n",
       "      <td>No</td>\n",
       "      <td>No phone service</td>\n",
       "      <td>DSL</td>\n",
       "      <td>No</td>\n",
       "      <td>...</td>\n",
       "      <td>No</td>\n",
       "      <td>No</td>\n",
       "      <td>No</td>\n",
       "      <td>No</td>\n",
       "      <td>Month-to-month</td>\n",
       "      <td>Yes</td>\n",
       "      <td>Electronic check</td>\n",
       "      <td>29.85</td>\n",
       "      <td>29.85</td>\n",
       "      <td>No</td>\n",
       "    </tr>\n",
       "    <tr>\n",
       "      <th>1</th>\n",
       "      <td>5575-GNVDE</td>\n",
       "      <td>Male</td>\n",
       "      <td>0</td>\n",
       "      <td>No</td>\n",
       "      <td>No</td>\n",
       "      <td>34</td>\n",
       "      <td>Yes</td>\n",
       "      <td>No</td>\n",
       "      <td>DSL</td>\n",
       "      <td>Yes</td>\n",
       "      <td>...</td>\n",
       "      <td>Yes</td>\n",
       "      <td>No</td>\n",
       "      <td>No</td>\n",
       "      <td>No</td>\n",
       "      <td>One year</td>\n",
       "      <td>No</td>\n",
       "      <td>Mailed check</td>\n",
       "      <td>56.95</td>\n",
       "      <td>1889.5</td>\n",
       "      <td>No</td>\n",
       "    </tr>\n",
       "    <tr>\n",
       "      <th>2</th>\n",
       "      <td>3668-QPYBK</td>\n",
       "      <td>Male</td>\n",
       "      <td>0</td>\n",
       "      <td>No</td>\n",
       "      <td>No</td>\n",
       "      <td>2</td>\n",
       "      <td>Yes</td>\n",
       "      <td>No</td>\n",
       "      <td>DSL</td>\n",
       "      <td>Yes</td>\n",
       "      <td>...</td>\n",
       "      <td>No</td>\n",
       "      <td>No</td>\n",
       "      <td>No</td>\n",
       "      <td>No</td>\n",
       "      <td>Month-to-month</td>\n",
       "      <td>Yes</td>\n",
       "      <td>Mailed check</td>\n",
       "      <td>53.85</td>\n",
       "      <td>108.15</td>\n",
       "      <td>Yes</td>\n",
       "    </tr>\n",
       "    <tr>\n",
       "      <th>3</th>\n",
       "      <td>7795-CFOCW</td>\n",
       "      <td>Male</td>\n",
       "      <td>0</td>\n",
       "      <td>No</td>\n",
       "      <td>No</td>\n",
       "      <td>45</td>\n",
       "      <td>No</td>\n",
       "      <td>No phone service</td>\n",
       "      <td>DSL</td>\n",
       "      <td>Yes</td>\n",
       "      <td>...</td>\n",
       "      <td>Yes</td>\n",
       "      <td>Yes</td>\n",
       "      <td>No</td>\n",
       "      <td>No</td>\n",
       "      <td>One year</td>\n",
       "      <td>No</td>\n",
       "      <td>Bank transfer (automatic)</td>\n",
       "      <td>42.30</td>\n",
       "      <td>1840.75</td>\n",
       "      <td>No</td>\n",
       "    </tr>\n",
       "    <tr>\n",
       "      <th>4</th>\n",
       "      <td>9237-HQITU</td>\n",
       "      <td>Female</td>\n",
       "      <td>0</td>\n",
       "      <td>No</td>\n",
       "      <td>No</td>\n",
       "      <td>2</td>\n",
       "      <td>Yes</td>\n",
       "      <td>No</td>\n",
       "      <td>Fiber optic</td>\n",
       "      <td>No</td>\n",
       "      <td>...</td>\n",
       "      <td>No</td>\n",
       "      <td>No</td>\n",
       "      <td>No</td>\n",
       "      <td>No</td>\n",
       "      <td>Month-to-month</td>\n",
       "      <td>Yes</td>\n",
       "      <td>Electronic check</td>\n",
       "      <td>70.70</td>\n",
       "      <td>151.65</td>\n",
       "      <td>Yes</td>\n",
       "    </tr>\n",
       "  </tbody>\n",
       "</table>\n",
       "<p>5 rows × 21 columns</p>\n",
       "</div>"
      ],
      "text/plain": [
       "   customerID  gender  SeniorCitizen Partner Dependents  tenure PhoneService  \\\n",
       "0  7590-VHVEG  Female              0     Yes         No       1           No   \n",
       "1  5575-GNVDE    Male              0      No         No      34          Yes   \n",
       "2  3668-QPYBK    Male              0      No         No       2          Yes   \n",
       "3  7795-CFOCW    Male              0      No         No      45           No   \n",
       "4  9237-HQITU  Female              0      No         No       2          Yes   \n",
       "\n",
       "      MultipleLines InternetService OnlineSecurity  ... DeviceProtection  \\\n",
       "0  No phone service             DSL             No  ...               No   \n",
       "1                No             DSL            Yes  ...              Yes   \n",
       "2                No             DSL            Yes  ...               No   \n",
       "3  No phone service             DSL            Yes  ...              Yes   \n",
       "4                No     Fiber optic             No  ...               No   \n",
       "\n",
       "  TechSupport StreamingTV StreamingMovies        Contract PaperlessBilling  \\\n",
       "0          No          No              No  Month-to-month              Yes   \n",
       "1          No          No              No        One year               No   \n",
       "2          No          No              No  Month-to-month              Yes   \n",
       "3         Yes          No              No        One year               No   \n",
       "4          No          No              No  Month-to-month              Yes   \n",
       "\n",
       "               PaymentMethod MonthlyCharges  TotalCharges Churn  \n",
       "0           Electronic check          29.85         29.85    No  \n",
       "1               Mailed check          56.95        1889.5    No  \n",
       "2               Mailed check          53.85        108.15   Yes  \n",
       "3  Bank transfer (automatic)          42.30       1840.75    No  \n",
       "4           Electronic check          70.70        151.65   Yes  \n",
       "\n",
       "[5 rows x 21 columns]"
      ]
     },
     "execution_count": 62,
     "metadata": {},
     "output_type": "execute_result"
    }
   ],
   "source": [
    "# Carregando os dados\n",
    "df = pd.read_csv(\"./Dataset/WA_Fn-UseC_-Telco-Customer-Churn.csv\")\n",
    "\n",
    "# Visualizando as 5 primeiras do conjunto de dados\n",
    "print(\"As 5 primeiras entradas do conjunto de dados:\\n\")\n",
    "df.head()"
   ]
  },
  {
   "cell_type": "markdown",
   "metadata": {},
   "source": [
    "## **Análise Exploratória dos Dados**"
   ]
  },
  {
   "cell_type": "markdown",
   "metadata": {},
   "source": [
    "**01 - Nomes das Colunas**"
   ]
  },
  {
   "cell_type": "code",
   "execution_count": 63,
   "metadata": {},
   "outputs": [
    {
     "data": {
      "text/html": [
       "<div>\n",
       "<style scoped>\n",
       "    .dataframe tbody tr th:only-of-type {\n",
       "        vertical-align: middle;\n",
       "    }\n",
       "\n",
       "    .dataframe tbody tr th {\n",
       "        vertical-align: top;\n",
       "    }\n",
       "\n",
       "    .dataframe thead th {\n",
       "        text-align: right;\n",
       "    }\n",
       "</style>\n",
       "<table border=\"1\" class=\"dataframe\">\n",
       "  <thead>\n",
       "    <tr style=\"text-align: right;\">\n",
       "      <th></th>\n",
       "      <th>0</th>\n",
       "    </tr>\n",
       "  </thead>\n",
       "  <tbody>\n",
       "    <tr>\n",
       "      <th>0</th>\n",
       "      <td>customerID</td>\n",
       "    </tr>\n",
       "    <tr>\n",
       "      <th>1</th>\n",
       "      <td>gender</td>\n",
       "    </tr>\n",
       "    <tr>\n",
       "      <th>2</th>\n",
       "      <td>SeniorCitizen</td>\n",
       "    </tr>\n",
       "    <tr>\n",
       "      <th>3</th>\n",
       "      <td>Partner</td>\n",
       "    </tr>\n",
       "    <tr>\n",
       "      <th>4</th>\n",
       "      <td>Dependents</td>\n",
       "    </tr>\n",
       "    <tr>\n",
       "      <th>5</th>\n",
       "      <td>tenure</td>\n",
       "    </tr>\n",
       "    <tr>\n",
       "      <th>6</th>\n",
       "      <td>PhoneService</td>\n",
       "    </tr>\n",
       "    <tr>\n",
       "      <th>7</th>\n",
       "      <td>MultipleLines</td>\n",
       "    </tr>\n",
       "    <tr>\n",
       "      <th>8</th>\n",
       "      <td>InternetService</td>\n",
       "    </tr>\n",
       "    <tr>\n",
       "      <th>9</th>\n",
       "      <td>OnlineSecurity</td>\n",
       "    </tr>\n",
       "    <tr>\n",
       "      <th>10</th>\n",
       "      <td>OnlineBackup</td>\n",
       "    </tr>\n",
       "    <tr>\n",
       "      <th>11</th>\n",
       "      <td>DeviceProtection</td>\n",
       "    </tr>\n",
       "    <tr>\n",
       "      <th>12</th>\n",
       "      <td>TechSupport</td>\n",
       "    </tr>\n",
       "    <tr>\n",
       "      <th>13</th>\n",
       "      <td>StreamingTV</td>\n",
       "    </tr>\n",
       "    <tr>\n",
       "      <th>14</th>\n",
       "      <td>StreamingMovies</td>\n",
       "    </tr>\n",
       "    <tr>\n",
       "      <th>15</th>\n",
       "      <td>Contract</td>\n",
       "    </tr>\n",
       "    <tr>\n",
       "      <th>16</th>\n",
       "      <td>PaperlessBilling</td>\n",
       "    </tr>\n",
       "    <tr>\n",
       "      <th>17</th>\n",
       "      <td>PaymentMethod</td>\n",
       "    </tr>\n",
       "    <tr>\n",
       "      <th>18</th>\n",
       "      <td>MonthlyCharges</td>\n",
       "    </tr>\n",
       "    <tr>\n",
       "      <th>19</th>\n",
       "      <td>TotalCharges</td>\n",
       "    </tr>\n",
       "    <tr>\n",
       "      <th>20</th>\n",
       "      <td>Churn</td>\n",
       "    </tr>\n",
       "  </tbody>\n",
       "</table>\n",
       "</div>"
      ],
      "text/plain": [
       "                   0\n",
       "0         customerID\n",
       "1             gender\n",
       "2      SeniorCitizen\n",
       "3            Partner\n",
       "4         Dependents\n",
       "5             tenure\n",
       "6       PhoneService\n",
       "7      MultipleLines\n",
       "8    InternetService\n",
       "9     OnlineSecurity\n",
       "10      OnlineBackup\n",
       "11  DeviceProtection\n",
       "12       TechSupport\n",
       "13       StreamingTV\n",
       "14   StreamingMovies\n",
       "15          Contract\n",
       "16  PaperlessBilling\n",
       "17     PaymentMethod\n",
       "18    MonthlyCharges\n",
       "19      TotalCharges\n",
       "20             Churn"
      ]
     },
     "execution_count": 63,
     "metadata": {},
     "output_type": "execute_result"
    }
   ],
   "source": [
    "# Colunas\n",
    "pd.DataFrame(df.columns)"
   ]
  },
  {
   "cell_type": "markdown",
   "metadata": {},
   "source": [
    "Pelos nomes das colunas, já podemos ter um maior entendimento sobre o conjunto de dados:\n",
    "- A coluna `customerID` nada agrega ao nosso projeto, pois é apenas um código de identificação dos clientes;\n",
    "- A coluna `Churn` identifica se o cliente deixou ou não de utilizar o serviço da empresa;\n",
    "- Também temos colunas que identificam algumas características dos clientes como Gênero (`gender`); se é idoso ou não (`SeniorCitizen`); e se tem dependentes (`Dependents`);\n",
    "- Além disso, temos colunas que indicam os tipos de serviços, a forma de pagamento e como é feito a cobrança dos clientes;\n",
    "- Ainda, a variável `tenure` está relacionada com o tempo em que a pessoa utiliza determinado serviço, ou seja, isso pode indicar a fidelidade do cliente."
   ]
  },
  {
   "cell_type": "markdown",
   "metadata": {},
   "source": [
    "**02 - Tipo de cada coluna**"
   ]
  },
  {
   "cell_type": "code",
   "execution_count": 64,
   "metadata": {},
   "outputs": [
    {
     "data": {
      "text/html": [
       "<div>\n",
       "<style scoped>\n",
       "    .dataframe tbody tr th:only-of-type {\n",
       "        vertical-align: middle;\n",
       "    }\n",
       "\n",
       "    .dataframe tbody tr th {\n",
       "        vertical-align: top;\n",
       "    }\n",
       "\n",
       "    .dataframe thead th {\n",
       "        text-align: right;\n",
       "    }\n",
       "</style>\n",
       "<table border=\"1\" class=\"dataframe\">\n",
       "  <thead>\n",
       "    <tr style=\"text-align: right;\">\n",
       "      <th></th>\n",
       "      <th>0</th>\n",
       "    </tr>\n",
       "  </thead>\n",
       "  <tbody>\n",
       "    <tr>\n",
       "      <th>customerID</th>\n",
       "      <td>object</td>\n",
       "    </tr>\n",
       "    <tr>\n",
       "      <th>gender</th>\n",
       "      <td>object</td>\n",
       "    </tr>\n",
       "    <tr>\n",
       "      <th>SeniorCitizen</th>\n",
       "      <td>int64</td>\n",
       "    </tr>\n",
       "    <tr>\n",
       "      <th>Partner</th>\n",
       "      <td>object</td>\n",
       "    </tr>\n",
       "    <tr>\n",
       "      <th>Dependents</th>\n",
       "      <td>object</td>\n",
       "    </tr>\n",
       "    <tr>\n",
       "      <th>tenure</th>\n",
       "      <td>int64</td>\n",
       "    </tr>\n",
       "    <tr>\n",
       "      <th>PhoneService</th>\n",
       "      <td>object</td>\n",
       "    </tr>\n",
       "    <tr>\n",
       "      <th>MultipleLines</th>\n",
       "      <td>object</td>\n",
       "    </tr>\n",
       "    <tr>\n",
       "      <th>InternetService</th>\n",
       "      <td>object</td>\n",
       "    </tr>\n",
       "    <tr>\n",
       "      <th>OnlineSecurity</th>\n",
       "      <td>object</td>\n",
       "    </tr>\n",
       "    <tr>\n",
       "      <th>OnlineBackup</th>\n",
       "      <td>object</td>\n",
       "    </tr>\n",
       "    <tr>\n",
       "      <th>DeviceProtection</th>\n",
       "      <td>object</td>\n",
       "    </tr>\n",
       "    <tr>\n",
       "      <th>TechSupport</th>\n",
       "      <td>object</td>\n",
       "    </tr>\n",
       "    <tr>\n",
       "      <th>StreamingTV</th>\n",
       "      <td>object</td>\n",
       "    </tr>\n",
       "    <tr>\n",
       "      <th>StreamingMovies</th>\n",
       "      <td>object</td>\n",
       "    </tr>\n",
       "    <tr>\n",
       "      <th>Contract</th>\n",
       "      <td>object</td>\n",
       "    </tr>\n",
       "    <tr>\n",
       "      <th>PaperlessBilling</th>\n",
       "      <td>object</td>\n",
       "    </tr>\n",
       "    <tr>\n",
       "      <th>PaymentMethod</th>\n",
       "      <td>object</td>\n",
       "    </tr>\n",
       "    <tr>\n",
       "      <th>MonthlyCharges</th>\n",
       "      <td>float64</td>\n",
       "    </tr>\n",
       "    <tr>\n",
       "      <th>TotalCharges</th>\n",
       "      <td>object</td>\n",
       "    </tr>\n",
       "    <tr>\n",
       "      <th>Churn</th>\n",
       "      <td>object</td>\n",
       "    </tr>\n",
       "  </tbody>\n",
       "</table>\n",
       "</div>"
      ],
      "text/plain": [
       "                        0\n",
       "customerID         object\n",
       "gender             object\n",
       "SeniorCitizen       int64\n",
       "Partner            object\n",
       "Dependents         object\n",
       "tenure              int64\n",
       "PhoneService       object\n",
       "MultipleLines      object\n",
       "InternetService    object\n",
       "OnlineSecurity     object\n",
       "OnlineBackup       object\n",
       "DeviceProtection   object\n",
       "TechSupport        object\n",
       "StreamingTV        object\n",
       "StreamingMovies    object\n",
       "Contract           object\n",
       "PaperlessBilling   object\n",
       "PaymentMethod      object\n",
       "MonthlyCharges    float64\n",
       "TotalCharges       object\n",
       "Churn              object"
      ]
     },
     "execution_count": 64,
     "metadata": {},
     "output_type": "execute_result"
    }
   ],
   "source": [
    "# Tipo dos atributos\n",
    "pd.DataFrame(df.dtypes)"
   ]
  },
  {
   "cell_type": "markdown",
   "metadata": {},
   "source": [
    "Como podemos perceber, a variável `TotalCharges` aparenta estar com o tipo incorreto, pois pelas primeiras entradas dela percebemos que é do numérica, no entanto quando verificamos usando a função **dtypes**, ela aparece como *object*. Portanto, vamos verificar melhor a variável `TotalCharges`."
   ]
  },
  {
   "cell_type": "markdown",
   "metadata": {},
   "source": [
    "Vamos converter a variável `TotalCharges` para float64:"
   ]
  },
  {
   "cell_type": "code",
   "execution_count": 65,
   "metadata": {},
   "outputs": [],
   "source": [
    "# Convertendo TotalCharges\n",
    "# df[\"TotalCharges\"].astype('float64')"
   ]
  },
  {
   "cell_type": "markdown",
   "metadata": {},
   "source": [
    "Quando tentamos converter a variável `TotalCharges`, aparece o seguinte erro:\n",
    "\n",
    "> ValueError: could not convert string to float: \n",
    "\n",
    "Esse ocorre, normalmente, quando tentamos converter um variável do tipo *string* para uma do tipo numérico. Além disso, essas entradas não são detectados como valores ausentes, conforme podemos ver:"
   ]
  },
  {
   "cell_type": "code",
   "execution_count": 66,
   "metadata": {},
   "outputs": [
    {
     "name": "stdout",
     "output_type": "stream",
     "text": [
      "Quantidade de valores ausentes na variável TotalCharges:  0\n"
     ]
    }
   ],
   "source": [
    "# Verificando valores ausentes na variável TotalCharges:\n",
    "print(\"Quantidade de valores ausentes na variável TotalCharges: \", df[\"TotalCharges\"].isnull().sum())"
   ]
  },
  {
   "cell_type": "markdown",
   "metadata": {},
   "source": [
    "Sendo assim, agora vamos transformar as variáveis que são numéricas em *float64* e as que são *string* em valor ausente (np.nan). E para isso, utilizarei uma função adaptada do [Carlos Melo](https://sigmoidal.ai/):"
   ]
  },
  {
   "cell_type": "code",
   "execution_count": 67,
   "metadata": {},
   "outputs": [],
   "source": [
    "def string_to_float(entrada):\n",
    "    \"\"\"\n",
    "    Converte um objeto do tipo string para float.\n",
    "    \n",
    "    # Argumentos:\n",
    "        entrada: objeto string ou coluna de DataFrame do tipo string\n",
    "        \n",
    "    # Resultados:\n",
    "        Valor convertido em float, se a variáel permitir a conversão.\n",
    "        NaN, caso não seja possível a conversão.\n",
    "    \"\"\"\n",
    "    \n",
    "    try:\n",
    "        return float(entrada)\n",
    "    except ValueError:\n",
    "        return np.nan"
   ]
  },
  {
   "cell_type": "markdown",
   "metadata": {},
   "source": [
    "Copiando o conjunto de dados:"
   ]
  },
  {
   "cell_type": "code",
   "execution_count": 68,
   "metadata": {},
   "outputs": [],
   "source": [
    "df_clean = df.copy()"
   ]
  },
  {
   "cell_type": "markdown",
   "metadata": {},
   "source": [
    "Removendo a coluna `costumerID`, pois como já foi citado anteriormente, ela não agrega valor ao nosso projeto:"
   ]
  },
  {
   "cell_type": "code",
   "execution_count": 69,
   "metadata": {},
   "outputs": [],
   "source": [
    "df_clean.drop(\"customerID\", axis=1, inplace=True)"
   ]
  },
  {
   "cell_type": "markdown",
   "metadata": {},
   "source": [
    "Convertendo a coluna `TotalCharges` para *float*:"
   ]
  },
  {
   "cell_type": "code",
   "execution_count": 70,
   "metadata": {},
   "outputs": [],
   "source": [
    "df_clean[\"TotalCharges\"] = df_clean[\"TotalCharges\"].apply(string_to_float)"
   ]
  },
  {
   "cell_type": "markdown",
   "metadata": {},
   "source": [
    "Verificando se a conversão ocorreu corretamente:"
   ]
  },
  {
   "cell_type": "code",
   "execution_count": 71,
   "metadata": {},
   "outputs": [
    {
     "data": {
      "text/plain": [
       "dtype('float64')"
      ]
     },
     "execution_count": 71,
     "metadata": {},
     "output_type": "execute_result"
    }
   ],
   "source": [
    "df_clean[\"TotalCharges\"].dtypes"
   ]
  },
  {
   "cell_type": "markdown",
   "metadata": {},
   "source": [
    "Verificando a quantidade de valores ausentes na coluna `TotalCharges` antes e depois do tratamento:"
   ]
  },
  {
   "cell_type": "code",
   "execution_count": 72,
   "metadata": {},
   "outputs": [
    {
     "name": "stdout",
     "output_type": "stream",
     "text": [
      "Valores ausentes em TotalCharges antes:\t\t 0\n",
      "Valores ausentes em TotalCharges depois:\t 11\n"
     ]
    }
   ],
   "source": [
    "print(\"Valores ausentes em TotalCharges antes:\\t\\t\", df[\"TotalCharges\"].isnull().sum())\n",
    "print(\"Valores ausentes em TotalCharges depois:\\t\", df_clean[\"TotalCharges\"].isnull().sum())"
   ]
  },
  {
   "cell_type": "markdown",
   "metadata": {},
   "source": [
    "Para tratar os valores ausentes da variável `TotalCharges`, vamos substituir eles pela média da variável:"
   ]
  },
  {
   "cell_type": "code",
   "execution_count": 73,
   "metadata": {},
   "outputs": [],
   "source": [
    "# Substituindo os valores ausentes pela média\n",
    "TotalChargesMean = round(df_clean[\"TotalCharges\"].mean(), 3)\n",
    "\n",
    "df_clean[\"TotalCharges\"].fillna(TotalChargesMean, inplace=True)"
   ]
  },
  {
   "cell_type": "markdown",
   "metadata": {},
   "source": [
    "**03 - Resumo estatístico das variáveis numéricas**"
   ]
  },
  {
   "cell_type": "code",
   "execution_count": 74,
   "metadata": {},
   "outputs": [
    {
     "name": "stdout",
     "output_type": "stream",
     "text": [
      "Resumo estatístico:\n"
     ]
    },
    {
     "data": {
      "text/html": [
       "<div>\n",
       "<style scoped>\n",
       "    .dataframe tbody tr th:only-of-type {\n",
       "        vertical-align: middle;\n",
       "    }\n",
       "\n",
       "    .dataframe tbody tr th {\n",
       "        vertical-align: top;\n",
       "    }\n",
       "\n",
       "    .dataframe thead th {\n",
       "        text-align: right;\n",
       "    }\n",
       "</style>\n",
       "<table border=\"1\" class=\"dataframe\">\n",
       "  <thead>\n",
       "    <tr style=\"text-align: right;\">\n",
       "      <th></th>\n",
       "      <th>SeniorCitizen</th>\n",
       "      <th>tenure</th>\n",
       "      <th>MonthlyCharges</th>\n",
       "      <th>TotalCharges</th>\n",
       "    </tr>\n",
       "  </thead>\n",
       "  <tbody>\n",
       "    <tr>\n",
       "      <th>count</th>\n",
       "      <td>7043.000000</td>\n",
       "      <td>7043.000000</td>\n",
       "      <td>7043.000000</td>\n",
       "      <td>7043.000000</td>\n",
       "    </tr>\n",
       "    <tr>\n",
       "      <th>mean</th>\n",
       "      <td>0.162147</td>\n",
       "      <td>32.371149</td>\n",
       "      <td>64.761692</td>\n",
       "      <td>2283.300440</td>\n",
       "    </tr>\n",
       "    <tr>\n",
       "      <th>std</th>\n",
       "      <td>0.368612</td>\n",
       "      <td>24.559481</td>\n",
       "      <td>30.090047</td>\n",
       "      <td>2265.000258</td>\n",
       "    </tr>\n",
       "    <tr>\n",
       "      <th>min</th>\n",
       "      <td>0.000000</td>\n",
       "      <td>0.000000</td>\n",
       "      <td>18.250000</td>\n",
       "      <td>18.800000</td>\n",
       "    </tr>\n",
       "    <tr>\n",
       "      <th>25%</th>\n",
       "      <td>0.000000</td>\n",
       "      <td>9.000000</td>\n",
       "      <td>35.500000</td>\n",
       "      <td>402.225000</td>\n",
       "    </tr>\n",
       "    <tr>\n",
       "      <th>50%</th>\n",
       "      <td>0.000000</td>\n",
       "      <td>29.000000</td>\n",
       "      <td>70.350000</td>\n",
       "      <td>1400.550000</td>\n",
       "    </tr>\n",
       "    <tr>\n",
       "      <th>75%</th>\n",
       "      <td>0.000000</td>\n",
       "      <td>55.000000</td>\n",
       "      <td>89.850000</td>\n",
       "      <td>3786.600000</td>\n",
       "    </tr>\n",
       "    <tr>\n",
       "      <th>max</th>\n",
       "      <td>1.000000</td>\n",
       "      <td>72.000000</td>\n",
       "      <td>118.750000</td>\n",
       "      <td>8684.800000</td>\n",
       "    </tr>\n",
       "  </tbody>\n",
       "</table>\n",
       "</div>"
      ],
      "text/plain": [
       "       SeniorCitizen       tenure  MonthlyCharges  TotalCharges\n",
       "count    7043.000000  7043.000000     7043.000000   7043.000000\n",
       "mean        0.162147    32.371149       64.761692   2283.300440\n",
       "std         0.368612    24.559481       30.090047   2265.000258\n",
       "min         0.000000     0.000000       18.250000     18.800000\n",
       "25%         0.000000     9.000000       35.500000    402.225000\n",
       "50%         0.000000    29.000000       70.350000   1400.550000\n",
       "75%         0.000000    55.000000       89.850000   3786.600000\n",
       "max         1.000000    72.000000      118.750000   8684.800000"
      ]
     },
     "execution_count": 74,
     "metadata": {},
     "output_type": "execute_result"
    }
   ],
   "source": [
    "print(\"Resumo estatístico:\")\n",
    "df_clean.describe()"
   ]
  },
  {
   "cell_type": "markdown",
   "metadata": {},
   "source": [
    "Apesar da variável `SeniorCitizen` aparentar estar com problema, isso é normal, pois ela é binária, ou seja, tem apenas valores 0 e 1 sendo que 0 representa não e 1 sim.\n",
    "\n",
    "Além disso, as variáveis `tenure`, `MontlhyCharges` e `TotalCharges` não parecem apresentar *outliers*, então faremos os boxplots para essas 3 variáveis para confirmar isso:"
   ]
  },
  {
   "cell_type": "code",
   "execution_count": 75,
   "metadata": {},
   "outputs": [
    {
     "data": {
      "image/png": "[encoded data removed]",
      "text/plain": [
       "<Figure size 1152x576 with 3 Axes>"
      ]
     },
     "metadata": {
      "needs_background": "light"
     },
     "output_type": "display_data"
    }
   ],
   "source": [
    "fig, ax = plt.subplots(nrows=2, ncols=2, figsize=(16,8))\n",
    "plt.delaxes(ax[1,1])\n",
    "\n",
    "sns.boxplot(df_clean['tenure'], ax=ax[0,0])\n",
    "sns.boxplot(df_clean['MonthlyCharges'], ax=ax[0,1])\n",
    "sns.boxplot(df_clean['TotalCharges'], ax=ax[1,0])\n",
    "\n",
    "plt.tight_layout()"
   ]
  },
  {
   "cell_type": "markdown",
   "metadata": {},
   "source": [
    "Realmente, pelos boxplots notamos que não há outliers nas variáveis `tenure`, `MonthlyCharges` e `TotalCharges`\n",
    "\n",
    "Ainda, como a variável `tenure` está relacionada a fidelização do cliente e não havendo documentação, assumo que a unidade dessa variável é a quantidade de meses que o cliente mantém um relacionamento com a empresa. Com isso:"
   ]
  },
  {
   "cell_type": "code",
   "execution_count": 76,
   "metadata": {},
   "outputs": [
    {
     "data": {
      "image/png": "[encoded data removed]",
      "text/plain": [
       "<Figure size 1008x432 with 1 Axes>"
      ]
     },
     "metadata": {
      "needs_background": "light"
     },
     "output_type": "display_data"
    }
   ],
   "source": [
    "fig, ax = plt.subplots(figsize=(14, 6))\n",
    "\n",
    "sns.countplot(df[\"tenure\"], color=\"royalblue\")\n",
    "\n",
    "plt.tight_layout()"
   ]
  },
  {
   "cell_type": "markdown",
   "metadata": {},
   "source": [
    "**04 - Variáveis categóricas (ou não numéricas)**"
   ]
  },
  {
   "cell_type": "markdown",
   "metadata": {},
   "source": [
    "Precisamos avaliar, também, as variáveis categóricas. Assim:"
   ]
  },
  {
   "cell_type": "code",
   "execution_count": 77,
   "metadata": {},
   "outputs": [
    {
     "name": "stdout",
     "output_type": "stream",
     "text": [
      "\u001b[1mEntradas únicas de cada variável categórica:\n",
      "\u001b[0m\n",
      "- gender\n",
      "  ['Female' 'Male']\n",
      "\n",
      "\n",
      "- SeniorCitizen\n",
      "  ['Yes' 'No']\n",
      "\n",
      "\n",
      "- Partner\n",
      "  ['No' 'Yes']\n",
      "\n",
      "\n",
      "- Dependents\n",
      "  ['No' 'Yes']\n",
      "\n",
      "\n",
      "- tenure\n",
      "  ['No phone service' 'No' 'Yes']\n",
      "\n",
      "\n",
      "- PhoneService\n",
      "  ['DSL' 'Fiber optic' 'No']\n",
      "\n",
      "\n",
      "- MultipleLines\n",
      "  ['No' 'Yes' 'No internet service']\n",
      "\n",
      "\n",
      "- InternetService\n",
      "  ['Yes' 'No' 'No internet service']\n",
      "\n",
      "\n",
      "- OnlineSecurity\n",
      "  ['No' 'Yes' 'No internet service']\n",
      "\n",
      "\n",
      "- OnlineBackup\n",
      "  ['No' 'Yes' 'No internet service']\n",
      "\n",
      "\n",
      "- DeviceProtection\n",
      "  ['No' 'Yes' 'No internet service']\n",
      "\n",
      "\n",
      "- TechSupport\n",
      "  ['No' 'Yes' 'No internet service']\n",
      "\n",
      "\n",
      "- StreamingTV\n",
      "  ['Month-to-month' 'One year' 'Two year']\n",
      "\n",
      "\n",
      "- StreamingMovies\n",
      "  ['Yes' 'No']\n",
      "\n",
      "\n",
      "- Contract\n",
      "  ['Electronic check' 'Mailed check' 'Bank transfer (automatic)'\n",
      " 'Credit card (automatic)']\n",
      "\n",
      "\n",
      "- PaperlessBilling\n",
      "  ['No' 'Yes']\n",
      "\n",
      "\n"
     ]
    }
   ],
   "source": [
    "# Separando as variáveis categóricas\n",
    "categoricas = df_clean.select_dtypes('object').columns\n",
    "\n",
    "# Visualizando entradas únicas\n",
    "print('\\033[1m' + \"Entradas únicas de cada variável categórica:\\n\" + '\\033[0m')\n",
    "for i in range(0, len(df_clean[categoricas].columns)):\n",
    "    print(\"-\", df_clean.columns[i])\n",
    "    print(\" \", df_clean[categoricas].iloc[:, i].unique())\n",
    "    print(\"\\n\")"
   ]
  },
  {
   "cell_type": "markdown",
   "metadata": {},
   "source": [
    "Avaliando as entradas únicas presentes nas variáveis categóricas, por exemplo, para a variável `MultipleLines` uma premissa válida a se assumir é que o valores `No` e `No internet service` são a mesma coisa, no entanto, neste projeto assumirei que são coisas diferentes e isso vale para todas as variáveis que apresentam comportamento semelhante."
   ]
  },
  {
   "cell_type": "markdown",
   "metadata": {},
   "source": [
    "**05 - Balanceamento das Variáveis**"
   ]
  },
  {
   "cell_type": "markdown",
   "metadata": {},
   "source": [
    "Para verificar se há algum enviesamento nas variáveis, farei a verificação do balanceamento para as variáveis categóricas binárias (`gender`, `SeniorCitizen`, `Partner`, `Dependents` e `PaperlessBilling`). Apesar de entender que para esse problema em específico isso não trará nenhum prejuízo relevante, em outros tipos de problemas esse enviesamento pode acarretar grandes prejuízos, como, por exemplo, em casos de contratação de funcionários ou previsão de crimes.\n",
    "\n",
    "Sendo assim, fazendo os gráficos para avaliar o balanceamento:"
   ]
  },
  {
   "cell_type": "code",
   "execution_count": 78,
   "metadata": {},
   "outputs": [
    {
     "data": {
      "image/png": "[encoded data removed]",
      "text/plain": [
       "<Figure size 1080x720 with 5 Axes>"
      ]
     },
     "metadata": {
      "needs_background": "light"
     },
     "output_type": "display_data"
    }
   ],
   "source": [
    "# Construindo a figura\n",
    "fig, ax = plt.subplots(nrows=2, ncols=3, figsize=(15, 10))\n",
    "plt.delaxes(ax[1,2])\n",
    "\n",
    "# gender\n",
    "sns.countplot(df_clean[\"gender\"], ax=ax[0,0])\n",
    "\n",
    "# SeniorCitizen\n",
    "sns.countplot(df_clean[\"SeniorCitizen\"], ax=ax[0,1])\n",
    "\n",
    "# Partner\n",
    "sns.countplot(df_clean[\"Partner\"], ax=ax[0,2])\n",
    "\n",
    "# Dependents\n",
    "sns.countplot(df_clean[\"Dependents\"], ax=ax[1,0])\n",
    "\n",
    "# PaperlessBilling\n",
    "sns.countplot(df_clean[\"PaperlessBilling\"], ax=ax[1,1])\n",
    "\n",
    "plt.tight_layout()"
   ]
  },
  {
   "cell_type": "markdown",
   "metadata": {},
   "source": [
    "Analisando os gráficos para verificar o balanceamento, percebemos que as variáveis que apresentam um maior desbalanceamento são `SeniorCitizen` e `Dependents`, no entanto como já citado anterior, no problema abordado nesse projeto, entendo que isso não trará prejuízos reais."
   ]
  },
  {
   "cell_type": "markdown",
   "metadata": {},
   "source": [
    "Ainda, temos que analisar o balanceamento das classes do conjunto de dados, apresentadas pela variável `Churn`.\n",
    "\n",
    "Então, fazendo o gráfico:"
   ]
  },
  {
   "cell_type": "code",
   "execution_count": 79,
   "metadata": {},
   "outputs": [
    {
     "data": {
      "image/png": "[encoded data removed]",
      "text/plain": [
       "<Figure size 360x360 with 1 Axes>"
      ]
     },
     "metadata": {
      "needs_background": "light"
     },
     "output_type": "display_data"
    }
   ],
   "source": [
    "# Construindo a figura\n",
    "fig, ax = plt.subplots(figsize=(5,5))\n",
    "\n",
    "# Churn\n",
    "sns.countplot(df[\"Churn\"], ax=ax)\n",
    "\n",
    "plt.tight_layout();"
   ]
  },
  {
   "cell_type": "markdown",
   "metadata": {},
   "source": [
    "Pelo gráfico, percebemos que a variável `Churn` está desbalanceada e vamos fazer o tratamento dela posteriormente."
   ]
  },
  {
   "cell_type": "markdown",
   "metadata": {},
   "source": [
    "## **Preparação dos Dados**"
   ]
  },
  {
   "cell_type": "markdown",
   "metadata": {},
   "source": [
    "Antes da construção do nosso modelo de *Machine Learning*, precisamos preparar o conjunto dados e para isso farei da seguinte forma:\n",
    "- As variáveis que contêm duas entradas únicas, incluindo a `Churn` serão processadas utilizando o *LabelEnconder*, ou seja, serão transformados em 0 e 1;\n",
    "- As variáveis que contêm mais de duas entradas únicas serão transformadas em varíaveis [*dummy*](https://medium.com/data-hackers/vari%C3%A1veis-dummy-o-que-%C3%A9-quando-usar-e-como-usar-78de66cfcca9).\n",
    "\n",
    "Então, fazendo a transformação:"
   ]
  },
  {
   "cell_type": "code",
   "execution_count": 80,
   "metadata": {},
   "outputs": [],
   "source": [
    "# Função para classificar se é int ou float ou, se nenhum deles, retorna False\n",
    "def int_or_float(argumento):\n",
    "    \"\"\"\n",
    "    Argumento -> variável para classificar.\n",
    "    Se 'Argumento' for int ou float retorna True; se nenhum deles, retorna False.\n",
    "    \"\"\"\n",
    "    if pd.api.types.is_integer_dtype(argumento):\n",
    "        return True\n",
    "    elif pd.api.types.is_float_dtype(argumento):\n",
    "        return True\n",
    "    else:\n",
    "        return False"
   ]
  },
  {
   "cell_type": "code",
   "execution_count": 81,
   "metadata": {},
   "outputs": [],
   "source": [
    "# Separando as variáveis em binárias, numéricas e dummy\n",
    "var_binaria = []\n",
    "var_num = []\n",
    "var_dummy = []\n",
    "\n",
    "for i in range(0, len(df_clean.columns)):\n",
    "    if len(df_clean.iloc[:, i].unique()) == 2:\n",
    "        var_binaria.append(df_clean.keys()[i])\n",
    "    elif int_or_float(df_clean.iloc[:, i].dtype):\n",
    "        var_num.append(df_clean.keys()[i])\n",
    "    else:\n",
    "        var_dummy.append(df_clean.keys()[i])"
   ]
  },
  {
   "cell_type": "code",
   "execution_count": 82,
   "metadata": {},
   "outputs": [],
   "source": [
    "# Criando uma cópia do conjunto de dados\n",
    "df_prep = df_clean.copy()\n",
    "\n",
    "# Label Enconding para as variáveis numéricas\n",
    "le = LabelEncoder()\n",
    "\n",
    "for i in var_binaria:\n",
    "    df_prep[i] = le.fit_transform(df_prep[i])"
   ]
  },
  {
   "cell_type": "code",
   "execution_count": 83,
   "metadata": {},
   "outputs": [],
   "source": [
    "# Encoding para as variáveis com mais de duas entradas únicas\n",
    "df_prep = pd.get_dummies(df_prep, columns=var_dummy)"
   ]
  },
  {
   "cell_type": "code",
   "execution_count": 84,
   "metadata": {},
   "outputs": [
    {
     "data": {
      "text/html": [
       "<div>\n",
       "<style scoped>\n",
       "    .dataframe tbody tr th:only-of-type {\n",
       "        vertical-align: middle;\n",
       "    }\n",
       "\n",
       "    .dataframe tbody tr th {\n",
       "        vertical-align: top;\n",
       "    }\n",
       "\n",
       "    .dataframe thead th {\n",
       "        text-align: right;\n",
       "    }\n",
       "</style>\n",
       "<table border=\"1\" class=\"dataframe\">\n",
       "  <thead>\n",
       "    <tr style=\"text-align: right;\">\n",
       "      <th></th>\n",
       "      <th>gender</th>\n",
       "      <th>SeniorCitizen</th>\n",
       "      <th>Partner</th>\n",
       "      <th>Dependents</th>\n",
       "      <th>tenure</th>\n",
       "      <th>PhoneService</th>\n",
       "      <th>PaperlessBilling</th>\n",
       "      <th>MonthlyCharges</th>\n",
       "      <th>TotalCharges</th>\n",
       "      <th>Churn</th>\n",
       "      <th>...</th>\n",
       "      <th>StreamingMovies_No</th>\n",
       "      <th>StreamingMovies_No internet service</th>\n",
       "      <th>StreamingMovies_Yes</th>\n",
       "      <th>Contract_Month-to-month</th>\n",
       "      <th>Contract_One year</th>\n",
       "      <th>Contract_Two year</th>\n",
       "      <th>PaymentMethod_Bank transfer (automatic)</th>\n",
       "      <th>PaymentMethod_Credit card (automatic)</th>\n",
       "      <th>PaymentMethod_Electronic check</th>\n",
       "      <th>PaymentMethod_Mailed check</th>\n",
       "    </tr>\n",
       "  </thead>\n",
       "  <tbody>\n",
       "    <tr>\n",
       "      <th>0</th>\n",
       "      <td>0</td>\n",
       "      <td>0</td>\n",
       "      <td>1</td>\n",
       "      <td>0</td>\n",
       "      <td>1</td>\n",
       "      <td>0</td>\n",
       "      <td>1</td>\n",
       "      <td>29.85</td>\n",
       "      <td>29.85</td>\n",
       "      <td>0</td>\n",
       "      <td>...</td>\n",
       "      <td>1</td>\n",
       "      <td>0</td>\n",
       "      <td>0</td>\n",
       "      <td>1</td>\n",
       "      <td>0</td>\n",
       "      <td>0</td>\n",
       "      <td>0</td>\n",
       "      <td>0</td>\n",
       "      <td>1</td>\n",
       "      <td>0</td>\n",
       "    </tr>\n",
       "    <tr>\n",
       "      <th>1</th>\n",
       "      <td>1</td>\n",
       "      <td>0</td>\n",
       "      <td>0</td>\n",
       "      <td>0</td>\n",
       "      <td>34</td>\n",
       "      <td>1</td>\n",
       "      <td>0</td>\n",
       "      <td>56.95</td>\n",
       "      <td>1889.50</td>\n",
       "      <td>0</td>\n",
       "      <td>...</td>\n",
       "      <td>1</td>\n",
       "      <td>0</td>\n",
       "      <td>0</td>\n",
       "      <td>0</td>\n",
       "      <td>1</td>\n",
       "      <td>0</td>\n",
       "      <td>0</td>\n",
       "      <td>0</td>\n",
       "      <td>0</td>\n",
       "      <td>1</td>\n",
       "    </tr>\n",
       "    <tr>\n",
       "      <th>2</th>\n",
       "      <td>1</td>\n",
       "      <td>0</td>\n",
       "      <td>0</td>\n",
       "      <td>0</td>\n",
       "      <td>2</td>\n",
       "      <td>1</td>\n",
       "      <td>1</td>\n",
       "      <td>53.85</td>\n",
       "      <td>108.15</td>\n",
       "      <td>1</td>\n",
       "      <td>...</td>\n",
       "      <td>1</td>\n",
       "      <td>0</td>\n",
       "      <td>0</td>\n",
       "      <td>1</td>\n",
       "      <td>0</td>\n",
       "      <td>0</td>\n",
       "      <td>0</td>\n",
       "      <td>0</td>\n",
       "      <td>0</td>\n",
       "      <td>1</td>\n",
       "    </tr>\n",
       "    <tr>\n",
       "      <th>3</th>\n",
       "      <td>1</td>\n",
       "      <td>0</td>\n",
       "      <td>0</td>\n",
       "      <td>0</td>\n",
       "      <td>45</td>\n",
       "      <td>0</td>\n",
       "      <td>0</td>\n",
       "      <td>42.30</td>\n",
       "      <td>1840.75</td>\n",
       "      <td>0</td>\n",
       "      <td>...</td>\n",
       "      <td>1</td>\n",
       "      <td>0</td>\n",
       "      <td>0</td>\n",
       "      <td>0</td>\n",
       "      <td>1</td>\n",
       "      <td>0</td>\n",
       "      <td>1</td>\n",
       "      <td>0</td>\n",
       "      <td>0</td>\n",
       "      <td>0</td>\n",
       "    </tr>\n",
       "    <tr>\n",
       "      <th>4</th>\n",
       "      <td>0</td>\n",
       "      <td>0</td>\n",
       "      <td>0</td>\n",
       "      <td>0</td>\n",
       "      <td>2</td>\n",
       "      <td>1</td>\n",
       "      <td>1</td>\n",
       "      <td>70.70</td>\n",
       "      <td>151.65</td>\n",
       "      <td>1</td>\n",
       "      <td>...</td>\n",
       "      <td>1</td>\n",
       "      <td>0</td>\n",
       "      <td>0</td>\n",
       "      <td>1</td>\n",
       "      <td>0</td>\n",
       "      <td>0</td>\n",
       "      <td>0</td>\n",
       "      <td>0</td>\n",
       "      <td>1</td>\n",
       "      <td>0</td>\n",
       "    </tr>\n",
       "  </tbody>\n",
       "</table>\n",
       "<p>5 rows × 41 columns</p>\n",
       "</div>"
      ],
      "text/plain": [
       "   gender  SeniorCitizen  Partner  Dependents  tenure  PhoneService  \\\n",
       "0       0              0        1           0       1             0   \n",
       "1       1              0        0           0      34             1   \n",
       "2       1              0        0           0       2             1   \n",
       "3       1              0        0           0      45             0   \n",
       "4       0              0        0           0       2             1   \n",
       "\n",
       "   PaperlessBilling  MonthlyCharges  TotalCharges  Churn  ...  \\\n",
       "0                 1           29.85         29.85      0  ...   \n",
       "1                 0           56.95       1889.50      0  ...   \n",
       "2                 1           53.85        108.15      1  ...   \n",
       "3                 0           42.30       1840.75      0  ...   \n",
       "4                 1           70.70        151.65      1  ...   \n",
       "\n",
       "   StreamingMovies_No  StreamingMovies_No internet service  \\\n",
       "0                   1                                    0   \n",
       "1                   1                                    0   \n",
       "2                   1                                    0   \n",
       "3                   1                                    0   \n",
       "4                   1                                    0   \n",
       "\n",
       "   StreamingMovies_Yes  Contract_Month-to-month  Contract_One year  \\\n",
       "0                    0                        1                  0   \n",
       "1                    0                        0                  1   \n",
       "2                    0                        1                  0   \n",
       "3                    0                        0                  1   \n",
       "4                    0                        1                  0   \n",
       "\n",
       "   Contract_Two year  PaymentMethod_Bank transfer (automatic)  \\\n",
       "0                  0                                        0   \n",
       "1                  0                                        0   \n",
       "2                  0                                        0   \n",
       "3                  0                                        1   \n",
       "4                  0                                        0   \n",
       "\n",
       "   PaymentMethod_Credit card (automatic)  PaymentMethod_Electronic check  \\\n",
       "0                                      0                               1   \n",
       "1                                      0                               0   \n",
       "2                                      0                               0   \n",
       "3                                      0                               0   \n",
       "4                                      0                               1   \n",
       "\n",
       "   PaymentMethod_Mailed check  \n",
       "0                           0  \n",
       "1                           1  \n",
       "2                           1  \n",
       "3                           0  \n",
       "4                           0  \n",
       "\n",
       "[5 rows x 41 columns]"
      ]
     },
     "execution_count": 84,
     "metadata": {},
     "output_type": "execute_result"
    }
   ],
   "source": [
    "# As 5 primeiras entradas do conjunto de dados transformado\n",
    "df_prep.head()"
   ]
  },
  {
   "cell_type": "markdown",
   "metadata": {},
   "source": [
    "Como podemos perceber pelas 5 primeiras entradas do conjunto de dados transformado, não foi retirado uma variável *dummy* de cada variável original que foi transformada, pois como usaremos apenas modelos de *Machine Learning* baseados em árvore de decisão, isso não se faz necessário e, inclusive, é até benéfico para os modelos."
   ]
  },
  {
   "cell_type": "markdown",
   "metadata": {},
   "source": [
    "## **Construção dos modelos de *Machine Learning***"
   ]
  },
  {
   "cell_type": "markdown",
   "metadata": {},
   "source": [
    "Para a construção do modelo de *Machine Learning*, não será feito normalização ou padronização nas variáveis do conjunto de dados, pois como utilizaremos apenas modelos baseados em árvore de decisão ou *ensemble* e esses tipos de modelos não são sensíveis a variação do conjunto de dados.\n",
    "\n",
    "Além disso, será criado uma *baseline* para podermos comparar os resultados antes e depois do balanceamento da variável `Churn`. E para essa comparação feita de forma simples, ou seja, não será feito qualquer ajuste nos hiperparâmetros dos modelos.\n",
    "\n",
    "Então, para começarmos é necessário separar o conjunto de dados em treino e teste, sendo que os dados de teste só serão utilizados ao final do projeto, para, assim, fazermos uma avaliação mais próxima possível do real."
   ]
  },
  {
   "cell_type": "markdown",
   "metadata": {},
   "source": [
    "**Aviso:**\n",
    "\n",
    ">Em algumas células irei colocar a função `np.random.seed(número_qualquer)` para garantir a replicabilidade do projeto, ou seja, se qualquer pessoa executar os códigos utilizados aqui em seu próprio notebook irá obter os mesmos resultados obtidos nesse projeto. Para maiores informações sobre o assunto: [clique aqui](https://www.geeksforgeeks.org/random-seed-in-python/)."
   ]
  },
  {
   "cell_type": "code",
   "execution_count": 92,
   "metadata": {},
   "outputs": [],
   "source": [
    "# Garantindo replicabilidade\n",
    "np.random.seed(2645)\n",
    "\n",
    "# Separando as variáveis independentes e a variável objetivo Churn\n",
    "X = df_prep.drop('Churn', axis=1)\n",
    "y = df_prep['Churn']\n",
    "\n",
    "# Separando o conjunto de dados em treino e teste\n",
    "X_train, X_test, y_train, y_test = train_test_split(X, y, stratify=y)"
   ]
  },
  {
   "cell_type": "markdown",
   "metadata": {},
   "source": [
    "Para facilitar a comparação da *baseline* antes do balaceamento dos dados com os modelos após o balanceamento, criarei uma função `val_modelo` que foi adaptada do [Carlos Melo](https://sigmoidal.ai/) e a métrica utilizada para  avaliar será o [AUC](https://medium.com/bio-data-blog/entenda-o-que-%C3%A9-auc-e-roc-nos-modelos-de-machine-learning-8191fb4df772):"
   ]
  },
  {
   "cell_type": "code",
   "execution_count": 86,
   "metadata": {},
   "outputs": [],
   "source": [
    "def val_modelo(clf, X, y, quite=False):\n",
    "    \"\"\"\n",
    "    Realiza a validação cruzada com os dados de treino para determinado modelo.\n",
    "    \n",
    "    Argumentos:\n",
    "        X: conjunto de dados, apenas com as variáveis independentes;\n",
    "        y: variável objetivo;\n",
    "        clf: modelo de classificação do Scikit-learn;\n",
    "        quite: bool, indicando se a função deve imprimir os resultados ou não.\n",
    "        \n",
    "    Return:\n",
    "        float com a média dos scores da validação cruzada.\n",
    "    \"\"\"\n",
    "    \n",
    "    X = np.array(X)\n",
    "    y = np.array(y)\n",
    "    \n",
    "    scores = cross_val_score(clf, X, y, scoring='roc_auc')\n",
    "    \n",
    "    if quite==False:\n",
    "        print(\"AUC: {:.2f} (+/- {:.2f})\".format(scores.mean(), scores.std()))\n",
    "        \n",
    "    return scores.mean()"
   ]
  },
  {
   "cell_type": "markdown",
   "metadata": {},
   "source": [
    "Para a *baseline*, utilizarei o modelo de classificação de Árvore de decisão (*DecisionTreeClassifier*), sem qualquer tipo de ajuste dos parâmetros. E serão utilizados os dados de treino, apenas:"
   ]
  },
  {
   "cell_type": "code",
   "execution_count": 93,
   "metadata": {},
   "outputs": [
    {
     "name": "stdout",
     "output_type": "stream",
     "text": [
      "AUC: 0.65 (+/- 0.01)\n"
     ]
    }
   ],
   "source": [
    "# Garantindo replicabilidade\n",
    "np.random.seed(2645)\n",
    "\n",
    "# Baseline de Comparação\n",
    "dt = DecisionTreeClassifier()\n",
    "comp_baseline = val_modelo(dt, X_train, y_train)"
   ]
  },
  {
   "cell_type": "markdown",
   "metadata": {},
   "source": [
    "Agora, será feito o balanceamento dos dados de treino (mantendo os dados de teste intocados), utilizando o método de [*Under Sampling*](https://sigmoidal.ai/como-lidar-com-dados-desbalanceados/):"
   ]
  },
  {
   "cell_type": "code",
   "execution_count": 94,
   "metadata": {},
   "outputs": [
    {
     "name": "stdout",
     "output_type": "stream",
     "text": [
      "\u001b[1mEntradas da variável Churn após o balanceamento:\u001b[0m\n",
      "1    1402\n",
      "0    1402\n",
      "Name: Churn, dtype: int64 \n",
      "\n"
     ]
    },
    {
     "data": {
      "image/png": "[encoded data removed]",
      "text/plain": [
       "<Figure size 432x432 with 1 Axes>"
      ]
     },
     "metadata": {
      "needs_background": "light"
     },
     "output_type": "display_data"
    }
   ],
   "source": [
    "# Garantindo replicabilidade\n",
    "np.random.seed(2645)\n",
    "\n",
    "# Modelo para balancear os dados\n",
    "und = RandomUnderSampler()\n",
    "\n",
    "X_und, y_und = und.fit_sample(X_train, y_train)\n",
    "\n",
    "# Verificando o balanceamento dos dados\n",
    "print('\\033[1m' + \"Entradas da variável Churn após o balanceamento:\" + '\\033[0m')\n",
    "print(pd.Series(y_und).value_counts(), \"\\n\")\n",
    "\n",
    "# Plotando a nova distribuição da variável Churn\n",
    "fig, ax = plt.subplots(figsize=(6,6))\n",
    "\n",
    "sns.countplot(pd.Series(y_und), ax=ax)\n",
    "\n",
    "sns.despine()\n",
    "\n",
    "ax.set_title(\"Distribuição da variável Churn\", fontsize=16)\n",
    "ax.set_xlabel(\"Classes\", fontsize=14)\n",
    "\n",
    "plt.tight_layout()"
   ]
  },
  {
   "cell_type": "markdown",
   "metadata": {},
   "source": [
    "Como podemos notar, o conjunto de ficou balanceado apresentando 50% de entradas para cada classe da variável `Churn`."
   ]
  },
  {
   "cell_type": "markdown",
   "metadata": {},
   "source": [
    "Assim, vou aplicar a validação cruzada em diferentes modelos de *Machine Learning*, com o intuito de avaliar qual(is) apresenta(m) o(s) melhor(es) desempenho(s). Para utilizarei os dados de treino que foram balanceados. Os modelos selecionados são:\n",
    "- [Decision Tree](https://scikit-learn.org/stable/modules/generated/sklearn.tree.DecisionTreeClassifier.html);\n",
    "- [Random Forest](https://scikit-learn.org/stable/modules/generated/sklearn.ensemble.RandomForestClassifier.html?highlight=classifier#sklearn.ensemble.RandomForestClassifier);\n",
    "- [XGBoost](https://xgboost.readthedocs.io/en/latest/python/python_api.html);\n",
    "- [LightGBM](https://lightgbm.readthedocs.io/en/latest/pythonapi/lightgbm.LGBMClassifier.html)."
   ]
  },
  {
   "cell_type": "code",
   "execution_count": 97,
   "metadata": {},
   "outputs": [
    {
     "data": {
      "text/html": [
       "<div>\n",
       "<style scoped>\n",
       "    .dataframe tbody tr th:only-of-type {\n",
       "        vertical-align: middle;\n",
       "    }\n",
       "\n",
       "    .dataframe tbody tr th {\n",
       "        vertical-align: top;\n",
       "    }\n",
       "\n",
       "    .dataframe thead th {\n",
       "        text-align: right;\n",
       "    }\n",
       "</style>\n",
       "<table border=\"1\" class=\"dataframe\">\n",
       "  <thead>\n",
       "    <tr style=\"text-align: right;\">\n",
       "      <th></th>\n",
       "      <th>AUC</th>\n",
       "    </tr>\n",
       "  </thead>\n",
       "  <tbody>\n",
       "    <tr>\n",
       "      <th>DecisionTreeClassifier</th>\n",
       "      <td>0.698459</td>\n",
       "    </tr>\n",
       "    <tr>\n",
       "      <th>RandomForestClassifier</th>\n",
       "      <td>0.818246</td>\n",
       "    </tr>\n",
       "    <tr>\n",
       "      <th>XGBClassifier</th>\n",
       "      <td>0.806512</td>\n",
       "    </tr>\n",
       "    <tr>\n",
       "      <th>LGBMClassifier</th>\n",
       "      <td>0.820931</td>\n",
       "    </tr>\n",
       "  </tbody>\n",
       "</table>\n",
       "</div>"
      ],
      "text/plain": [
       "                             AUC\n",
       "DecisionTreeClassifier  0.698459\n",
       "RandomForestClassifier  0.818246\n",
       "XGBClassifier           0.806512\n",
       "LGBMClassifier          0.820931"
      ]
     },
     "execution_count": 97,
     "metadata": {},
     "output_type": "execute_result"
    }
   ],
   "source": [
    "# Garantindo replicabilidade\n",
    "np.random.seed(2645)\n",
    "\n",
    "# Definindo os modelos\n",
    "dt = DecisionTreeClassifier()\n",
    "rf = RandomForestClassifier()\n",
    "xgb = XGBClassifier()\n",
    "lgbm = LGBMClassifier()\n",
    "\n",
    "modelo = []\n",
    "auc = []\n",
    "\n",
    "# Avaliando o desempenho (AUC)\n",
    "for clf in (dt, rf, xgb, lgbm):\n",
    "    modelo.append(clf.__class__.__name__)\n",
    "    auc.append(val_modelo(clf, X_und, y_und, quite=True))\n",
    "    \n",
    "pd.DataFrame(data=auc, index=modelo, columns=['AUC'])"
   ]
  },
  {
   "cell_type": "markdown",
   "metadata": {},
   "source": [
    "Notamos pelo desempenho dos modelos que:\n",
    "- O *DecisionTreeClassifier* não mostrou uma melhora significativa utilizando os dados balanceados em relação *baseline*.\n",
    "- Os modelos *RandomForestClassifier* e *XGBClassifier* mostraram desempenhos bem semelhantes.\n",
    "- O modelo *LGBMClassifier* mostrou um desempenho levemente superior aos outros.\n",
    "\n",
    "Sendo assim, utilizarei o modelo *LGBMClassifier* para fazer a otimização dos parâmetros."
   ]
  },
  {
   "cell_type": "markdown",
   "metadata": {},
   "source": [
    "### **Otimização dos parâmetros**"
   ]
  },
  {
   "cell_type": "markdown",
   "metadata": {},
   "source": [
    "O LightGBM possui diversos parâmetros que podem ser ajustados, alguns afetam mais o desmepenho do modelo e outros menos. Uma boa abordagem é definir uma taxa de aprendizado (`learning_rate`) e número de estimadores (`n_estimators`), fazer o ajuste de outros parâmetros e, no fim, verificar outras taxas de aprendizado.\n",
    "\n",
    "Irei começar ajustando o número de estimadores e para isso foi definido o `learning_rate` como sendo 0.1."
   ]
  },
  {
   "cell_type": "code",
   "execution_count": 101,
   "metadata": {},
   "outputs": [
    {
     "name": "stdout",
     "output_type": "stream",
     "text": [
      "Melhor resultado: 0.8282, para {'n_estimators': 50}\n"
     ]
    }
   ],
   "source": [
    "# Garantindo replicabilidade\n",
    "np.random.seed(2645)\n",
    "\n",
    "# Modelo LightGBM\n",
    "lgbm_model = LGBMClassifier(learning_rate=0.1)\n",
    "\n",
    "# Definindo o parâmetro a ser ajustado\n",
    "param_grid = {'n_estimators': range(0, 1000, 50)}\n",
    "\n",
    "# Definindo o kfold\n",
    "kfold = StratifiedKFold(n_splits=10, shuffle=True)\n",
    "\n",
    "# Identificando o melhor parâmetro\n",
    "lgbm_grid = GridSearchCV(lgbm_model, param_grid, scoring='roc_auc', n_jobs=-1, cv=kfold)\n",
    "resultado = lgbm_grid.fit(X_und, y_und)\n",
    "\n",
    "# Visualizar ajuste\n",
    "print(\"Melhor resultado: {}, para {}\".format(round(resultado.best_score_, 4), resultado.best_params_))"
   ]
  },
  {
   "cell_type": "markdown",
   "metadata": {},
   "source": [
    "Com o `n_estimators` definido como 50, vou ajustar o parâmetro `num_leaves`."
   ]
  },
  {
   "cell_type": "code",
   "execution_count": 102,
   "metadata": {},
   "outputs": [
    {
     "name": "stdout",
     "output_type": "stream",
     "text": [
      "Melhor resultado: 0.8467, para {'num_leaves': 5}\n"
     ]
    }
   ],
   "source": [
    "# Garantindo replicabilidade\n",
    "np.random.seed(2645)\n",
    "\n",
    "# Modelo LightGBM\n",
    "lgbm_model = LGBMClassifier(learning_rate=0.1, n_estimators=50)\n",
    "\n",
    "# Definindo o parâmetro a ser ajustado\n",
    "param_grid = {'num_leaves': range(1, 100, 1)}\n",
    "\n",
    "# Definindo o kfold\n",
    "kfold = StratifiedKFold(n_splits=10, shuffle=True)\n",
    "\n",
    "# Identificando o melhor parâmetro\n",
    "lgbm_grid = GridSearchCV(lgbm_model, param_grid, scoring='roc_auc', n_jobs=-1, cv=kfold)\n",
    "resultado = lgbm_grid.fit(X_und, y_und)\n",
    "\n",
    "# Visualizar ajuste\n",
    "print(\"Melhor resultado: {}, para {}\".format(round(resultado.best_score_, 4), resultado.best_params_))"
   ]
  },
  {
   "cell_type": "markdown",
   "metadata": {},
   "source": [
    "Com o valor de 5 para `num_leaves`, vou ajustar os parâmetros `max_depth` e `min_child_weight`."
   ]
  },
  {
   "cell_type": "code",
   "execution_count": 104,
   "metadata": {},
   "outputs": [
    {
     "name": "stdout",
     "output_type": "stream",
     "text": [
      "Melhor resultado: 0.847, para {'max_depth': 4, 'min_child_weight': 6}\n"
     ]
    }
   ],
   "source": [
    "# Garantindo replicabilidade\n",
    "np.random.seed(2645)\n",
    "\n",
    "# Modelo LightGBM\n",
    "lgbm_model = LGBMClassifier(learning_rate=0.1, n_estimators=50, num_leaves=5)\n",
    "\n",
    "# Definindo o parâmetro a ser ajustado\n",
    "param_grid = {'max_depth': range(1, 10, 1), \n",
    "             'min_child_weight': range(1, 7, 1)}\n",
    "\n",
    "# Definindo o kfold\n",
    "kfold = StratifiedKFold(n_splits=10, shuffle=True)\n",
    "\n",
    "# Identificando o melhor parâmetro\n",
    "lgbm_grid = GridSearchCV(lgbm_model, param_grid, scoring='roc_auc', n_jobs=-1, cv=kfold)\n",
    "resultado = lgbm_grid.fit(X_und, y_und)\n",
    "\n",
    "# Visualizar ajuste\n",
    "print(\"Melhor resultado: {}, para {}\".format(round(resultado.best_score_, 4), resultado.best_params_))"
   ]
  },
  {
   "cell_type": "markdown",
   "metadata": {},
   "source": [
    "E, por fim, vou verificar o `learning_rate` com os 4 resultados obtidos."
   ]
  },
  {
   "cell_type": "code",
   "execution_count": 106,
   "metadata": {},
   "outputs": [
    {
     "name": "stdout",
     "output_type": "stream",
     "text": [
      "Melhor resultado: 0.847, para {'learning_rate': 0.1}\n"
     ]
    }
   ],
   "source": [
    "# Garantindo replicabilidade\n",
    "np.random.seed(2645)\n",
    "\n",
    "# Modelo LightGBM\n",
    "lgbm_model = LGBMClassifier(n_estimators=50, num_leaves=5, max_depth=4, min_child_weight=6)\n",
    "\n",
    "# Definindo o parâmetro a ser ajustado\n",
    "param_grid = {'learning_rate': [0.0001, 0.001, 0.01, 0.1, 1, 10]}\n",
    "\n",
    "# Definindo o kfold\n",
    "kfold = StratifiedKFold(n_splits=10, shuffle=True)\n",
    "\n",
    "# Identificando o melhor parâmetro\n",
    "lgbm_grid = GridSearchCV(lgbm_model, param_grid, scoring='roc_auc', n_jobs=-1, cv=kfold)\n",
    "resultado = lgbm_grid.fit(X_und, y_und)\n",
    "\n",
    "# Visualizar ajuste\n",
    "print(\"Melhor resultado: {}, para {}\".format(round(resultado.best_score_, 4), resultado.best_params_))"
   ]
  },
  {
   "cell_type": "markdown",
   "metadata": {},
   "source": [
    "Percebemos que o `learning_rate` otimizado ficou em 0.1 mesmo, considerando o `AUC` como sendo a única métrica de importância (premissa definida por esse autor).\n",
    "\n",
    "Com isso, vamos treinar o modelo com todos os parâmetros otimizados e então verificaremos o desempenho final utilizando os dados de teste. Sendo que esse será o primeiro contato com os dados de teste."
   ]
  },
  {
   "cell_type": "code",
   "execution_count": 118,
   "metadata": {},
   "outputs": [
    {
     "name": "stdout",
     "output_type": "stream",
     "text": [
      "Relatório de classificação:\n",
      "               precision    recall  f1-score   support\n",
      "\n",
      "           0     0.9192    0.7473    0.8244      1294\n",
      "           1     0.5388    0.8180    0.6497       467\n",
      "\n",
      "    accuracy                         0.7660      1761\n",
      "   macro avg     0.7290    0.7826    0.7370      1761\n",
      "weighted avg     0.8183    0.7660    0.7780      1761\n",
      "\n",
      "Área sob a curva (AUC):\t0.7826\n"
     ]
    }
   ],
   "source": [
    "# Garantindo replicabilidade\n",
    "np.random.seed(2645)\n",
    "\n",
    "# Construindo o modelo final\n",
    "lgbm_final = LGBMClassifier(learning_rate=0.1, n_estimators=50, num_leaves=5, max_depth=4, min_child_weight=6)\n",
    "lgbm_final.fit(X_und, y_und)\n",
    "\n",
    "# Fazendo previsões\n",
    "y_pred = lgbm_final.predict(X_test)\n",
    "\n",
    "# Relatório de classificação\n",
    "print(\"Relatório de classificação:\\n\", classification_report(y_test, y_pred, digits=4))\n",
    "\n",
    "# AUC\n",
    "print(\"Área sob a curva (AUC):\\t{}\".format(round(roc_auc_score(y_test, y_pred), 4)))"
   ]
  },
  {
   "cell_type": "markdown",
   "metadata": {},
   "source": [
    "Ainda, faremos a matriz de confusão:"
   ]
  },
  {
   "cell_type": "code",
   "execution_count": 119,
   "metadata": {},
   "outputs": [
    {
     "data": {
      "image/png": "[encoded data removed]",
      "text/plain": [
       "<Figure size 432x288 with 2 Axes>"
      ]
     },
     "metadata": {
      "needs_background": "light"
     },
     "output_type": "display_data"
    }
   ],
   "source": [
    "# Matriz de confusão\n",
    "fig, ax = plt.subplots()\n",
    "\n",
    "sns.heatmap(confusion_matrix(y_test, y_pred, normalize='true'), annot=True, ax=ax)\n",
    "\n",
    "ax.set_title('Matriz de Confusão Normalizada')\n",
    "ax.set_ylabel('Verdadeiro')\n",
    "ax.set_xlabel('Previsto')\n",
    "\n",
    "plt.tight_layout()"
   ]
  },
  {
   "cell_type": "markdown",
   "metadata": {},
   "source": [
    "E, também, vou plotar a curva ROC:"
   ]
  },
  {
   "cell_type": "code",
   "execution_count": 120,
   "metadata": {},
   "outputs": [
    {
     "data": {
      "image/png": "[encoded data removed]",
      "text/plain": [
       "<Figure size 720x576 with 1 Axes>"
      ]
     },
     "metadata": {
      "needs_background": "light"
     },
     "output_type": "display_data"
    }
   ],
   "source": [
    "# Garantindo replicabilidade\n",
    "np.random.seed(2645)\n",
    "\n",
    "# Plotando a curva ROC:\n",
    "fig, ax = plt.subplots(figsize=(10,8))\n",
    "vis_lgbm = ROCAUC(lgbm_model, classes=[0, 1], title=\"Curvas ROC para o LightGBM\")\n",
    "\n",
    "vis_lgbm.fit(X_und, y_und); # Ajusta os dados de treino ao visualizador\n",
    "vis_lgbm.score(X_test, y_test); # Avalia o modelo com os dados de teste\n",
    "vis_lgbm.show(); # Finaliza e mostra a figura"
   ]
  },
  {
   "cell_type": "markdown",
   "metadata": {},
   "source": [
    "## **Considerações finais**"
   ]
  },
  {
   "cell_type": "code",
   "execution_count": null,
   "metadata": {},
   "outputs": [],
   "source": []
  },
  {
   "cell_type": "markdown",
   "metadata": {},
   "source": [
    "https://resultadosdigitais.com.br/blog/o-que-e-churn/\n",
    "\n",
    "https://www.hashmicro.com/blog/churn-rate-definition/\n",
    "\n",
    "https://en.wikipedia.org/wiki/Churn_rate\n",
    "\n",
    "https://www.investopedia.com/terms/c/churnrate.asp\n",
    "\n",
    "https://rockcontent.com/br/blog/churn-rate/\n",
    "\n",
    "https://medium.com/data-hackers/vari%C3%A1veis-dummy-o-que-%C3%A9-quando-usar-e-como-usar-78de66cfcca9\n",
    "\n",
    "https://towardsdatascience.com/do-decision-trees-need-feature-scaling-97809eaa60c6\n",
    "\n",
    "https://medium.com/bio-data-blog/entenda-o-que-%C3%A9-auc-e-roc-nos-modelos-de-machine-learning-8191fb4df772\n",
    "\n",
    "https://www.geeksforgeeks.org/random-seed-in-python/"
   ]
  }
 ],
 "metadata": {
  "kernelspec": {
   "display_name": "Python 3",
   "language": "python",
   "name": "python3"
  },
  "language_info": {
   "codemirror_mode": {
    "name": "ipython",
    "version": 3
   },
   "file_extension": ".py",
   "mimetype": "text/x-python",
   "name": "python",
   "nbconvert_exporter": "python",
   "pygments_lexer": "ipython3",
   "version": "3.7.4"
  }
 },
 "nbformat": 4,
 "nbformat_minor": 4
}
